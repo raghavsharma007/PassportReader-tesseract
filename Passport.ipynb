{
 "cells": [
  {
   "cell_type": "code",
   "execution_count": 73,
   "metadata": {},
   "outputs": [],
   "source": [
    "from wand.image import Image\n",
    "import passporteye\n",
    "import os\n",
    "import pytesseract\n",
    "import pandas as pd"
   ]
  },
  {
   "cell_type": "code",
   "execution_count": 74,
   "metadata": {},
   "outputs": [],
   "source": [
    "class Date:\n",
    "    def __init__(self, passport_date):\n",
    "        self.day = passport_date[4:6]\n",
    "        self.month = passport_date[2:4]\n",
    "        self.year = passport_date[0:2]\n",
    "        self.date_format = self.day + '/' + self.month + '/' + self.year"
   ]
  },
  {
   "cell_type": "code",
   "execution_count": 75,
   "metadata": {},
   "outputs": [],
   "source": [
    "all_passports_data = []\n",
    "\n",
    "# path of directory of passports should be entered here\n",
    "file_paths = os.listdir('Passports') \n",
    "\n",
    "i = 0  # to iterate through each file\n",
    "j = 0  # to iterate through each page in pdfs\n",
    "pytesseract.pytesseract.tesseract_cmd = r\"C:\\Program Files (x86)\\Tesseract-OCR\\tesseract.exe\""
   ]
  },
  {
   "cell_type": "code",
   "execution_count": 76,
   "metadata": {
    "scrolled": true
   },
   "outputs": [
    {
     "name": "stdout",
     "output_type": "stream",
     "text": [
      "Passports\\123385_20190302183639506.pdf\n",
      "0.jpg\n",
      "Passports\\123385_20190302183639506.pdf\n",
      "Passports\\20190327150540291.pdf\n",
      "0.jpg\n",
      "Passports\\20190327150540291.pdf\n",
      "1.jpg\n",
      "Passports\\20190327150540291.pdf\n",
      "Passports\\ScanApr27,2019_Personal_0_1.pdf\n",
      "0.jpg\n",
      "Passports\\ScanApr27,2019_Personal_0_1.pdf\n"
     ]
    }
   ],
   "source": [
    "while i < len(file_paths):\n",
    "    file_path = 'Passports\\\\' + file_paths[i]\n",
    "    print(file_path)\n",
    "\n",
    "    if file_path.endswith('.pdf'):\n",
    "        pdf = Image(filename=file_path, resolution=300)\n",
    "        pdfImage = pdf.convert('jpg')  # contains list of jpgs of each page in pdf in sequence attribute\n",
    "        \n",
    "        if j < len(pdfImage.sequence):\n",
    "            page = Image(image=pdfImage.sequence[j])\n",
    "            page.save(filename=str(j)+'.jpg')  # creating a copy of the pdf page as jpg\n",
    "            # assigning the location of newly created file to file_path\n",
    "            file_path = str(j)+'.jpg'\n",
    "            j += 1\n",
    "        else:\n",
    "            i += 1\n",
    "            j = 0\n",
    "            continue\n",
    "    else:\n",
    "        i += 1\n",
    "\n",
    "    try:\n",
    "        print(file_path)\n",
    "#         raw_data = passporteye.mrz.text.MRZ.to_dict(passporteye.read_mrz(file_path))\n",
    "    except AttributeError and ValueError:\n",
    "        print('Invalid Passport')\n",
    "    else:\n",
    "        my_data = {\n",
    "            'Full Name': '',\n",
    "            'Passport Number': '',\n",
    "            'Date of Birth': Date(raw_data['date_of_birth']).date_format,\n",
    "            'Country Code': raw_data['country'],\n",
    "            'Nationality': raw_data['nationality'],\n",
    "            'Gender': '',\n",
    "            'Expiry Date': Date(raw_data['expiration_date']).date_format\n",
    "        }\n",
    "        # accurately adding full name to my_data\n",
    "        my_data['Full Name'] = raw_data['names'].replace('KKK', '').strip() + ' ' + raw_data['surname'].replace('KKK', '').strip()\n",
    "        \n",
    "        # accurately adding passport number to my_data\n",
    "        for char in raw_data['number']:\n",
    "            if char.isalnum():\n",
    "                my_data['Passport Number'] += char\n",
    "        \n",
    "        # accurately adding gender to my_data\n",
    "        if raw_data['sex'] is 'M' or raw_data['sex'] is 'F':\n",
    "            my_data['Gender'] = raw_data['sex']\n",
    "        else:\n",
    "            my_data['Gender'] = 'M'\n",
    "            \n",
    "        all_passports_data.append(my_data)\n",
    "        \n",
    "    if j > 0:  # checking if current file in file_paths is a pdf\n",
    "        os.remove(file_path)  # deleting copy of pdf page"
   ]
  },
  {
   "cell_type": "code",
   "execution_count": 77,
   "metadata": {},
   "outputs": [
    {
     "name": "stdout",
     "output_type": "stream",
     "text": [
      "[{'Full Name': 'DAYANARA L3FORTEZA', 'Passport Number': 'EC71331WY', 'Date of Birth': '04/06/94', 'Country Code': 'PHL', 'Nationality': 'PHL', 'Gender': 'F', 'Expiry Date': '18/03/21'}, {'Full Name': 'DAYANARA L3FORTEZA', 'Passport Number': 'EC71331WY', 'Date of Birth': '04/06/94', 'Country Code': 'PHL', 'Nationality': 'PHL', 'Gender': 'F', 'Expiry Date': '18/03/21'}, {'Full Name': 'DAYANARA L3FORTEZA', 'Passport Number': 'EC71331WY', 'Date of Birth': '04/06/94', 'Country Code': 'PHL', 'Nationality': 'PHL', 'Gender': 'F', 'Expiry Date': '18/03/21'}, {'Full Name': 'DAYANARA L3FORTEZA', 'Passport Number': 'EC71331WY', 'Date of Birth': '04/06/94', 'Country Code': 'PHL', 'Nationality': 'PHL', 'Gender': 'F', 'Expiry Date': '18/03/21'}]\n"
     ]
    }
   ],
   "source": [
    "print(all_passports_data)"
   ]
  },
  {
   "cell_type": "code",
   "execution_count": 78,
   "metadata": {},
   "outputs": [
    {
     "data": {
      "text/html": [
       "<div>\n",
       "<style scoped>\n",
       "    .dataframe tbody tr th:only-of-type {\n",
       "        vertical-align: middle;\n",
       "    }\n",
       "\n",
       "    .dataframe tbody tr th {\n",
       "        vertical-align: top;\n",
       "    }\n",
       "\n",
       "    .dataframe thead th {\n",
       "        text-align: right;\n",
       "    }\n",
       "</style>\n",
       "<table border=\"1\" class=\"dataframe\">\n",
       "  <thead>\n",
       "    <tr style=\"text-align: right;\">\n",
       "      <th></th>\n",
       "      <th>Full Name</th>\n",
       "      <th>Passport Number</th>\n",
       "      <th>Date of Birth</th>\n",
       "      <th>Country Code</th>\n",
       "      <th>Nationality</th>\n",
       "      <th>Gender</th>\n",
       "      <th>Expiry Date</th>\n",
       "    </tr>\n",
       "  </thead>\n",
       "  <tbody>\n",
       "    <tr>\n",
       "      <td>0</td>\n",
       "      <td>DAYANARA L3FORTEZA</td>\n",
       "      <td>EC71331WY</td>\n",
       "      <td>04/06/94</td>\n",
       "      <td>PHL</td>\n",
       "      <td>PHL</td>\n",
       "      <td>F</td>\n",
       "      <td>18/03/21</td>\n",
       "    </tr>\n",
       "    <tr>\n",
       "      <td>1</td>\n",
       "      <td>DAYANARA L3FORTEZA</td>\n",
       "      <td>EC71331WY</td>\n",
       "      <td>04/06/94</td>\n",
       "      <td>PHL</td>\n",
       "      <td>PHL</td>\n",
       "      <td>F</td>\n",
       "      <td>18/03/21</td>\n",
       "    </tr>\n",
       "    <tr>\n",
       "      <td>2</td>\n",
       "      <td>DAYANARA L3FORTEZA</td>\n",
       "      <td>EC71331WY</td>\n",
       "      <td>04/06/94</td>\n",
       "      <td>PHL</td>\n",
       "      <td>PHL</td>\n",
       "      <td>F</td>\n",
       "      <td>18/03/21</td>\n",
       "    </tr>\n",
       "    <tr>\n",
       "      <td>3</td>\n",
       "      <td>DAYANARA L3FORTEZA</td>\n",
       "      <td>EC71331WY</td>\n",
       "      <td>04/06/94</td>\n",
       "      <td>PHL</td>\n",
       "      <td>PHL</td>\n",
       "      <td>F</td>\n",
       "      <td>18/03/21</td>\n",
       "    </tr>\n",
       "  </tbody>\n",
       "</table>\n",
       "</div>"
      ],
      "text/plain": [
       "            Full Name Passport Number Date of Birth Country Code Nationality  \\\n",
       "0  DAYANARA L3FORTEZA       EC71331WY      04/06/94          PHL         PHL   \n",
       "1  DAYANARA L3FORTEZA       EC71331WY      04/06/94          PHL         PHL   \n",
       "2  DAYANARA L3FORTEZA       EC71331WY      04/06/94          PHL         PHL   \n",
       "3  DAYANARA L3FORTEZA       EC71331WY      04/06/94          PHL         PHL   \n",
       "\n",
       "  Gender Expiry Date  \n",
       "0      F    18/03/21  \n",
       "1      F    18/03/21  \n",
       "2      F    18/03/21  \n",
       "3      F    18/03/21  "
      ]
     },
     "execution_count": 78,
     "metadata": {},
     "output_type": "execute_result"
    }
   ],
   "source": [
    "df = pd.DataFrame(all_passports_data)\n",
    "df"
   ]
  },
  {
   "cell_type": "code",
   "execution_count": null,
   "metadata": {},
   "outputs": [],
   "source": []
  }
 ],
 "metadata": {
  "kernelspec": {
   "display_name": "Python 3",
   "language": "python",
   "name": "python3"
  },
  "language_info": {
   "codemirror_mode": {
    "name": "ipython",
    "version": 3
   },
   "file_extension": ".py",
   "mimetype": "text/x-python",
   "name": "python",
   "nbconvert_exporter": "python",
   "pygments_lexer": "ipython3",
   "version": "3.7.2"
  }
 },
 "nbformat": 4,
 "nbformat_minor": 2
}
